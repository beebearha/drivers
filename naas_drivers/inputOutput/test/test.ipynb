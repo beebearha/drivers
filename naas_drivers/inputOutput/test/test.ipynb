{
 "metadata": {
  "language_info": {
   "codemirror_mode": {
    "name": "ipython",
    "version": 3
   },
   "file_extension": ".py",
   "mimetype": "text/x-python",
   "name": "python",
   "nbconvert_exporter": "python",
   "pygments_lexer": "ipython3",
   "version": "3.9.5"
  },
  "orig_nbformat": 4,
  "kernelspec": {
   "name": "python3",
   "display_name": "Python 3.9.5 64-bit"
  },
  "interpreter": {
   "hash": "e7370f93d1d0cde622a1f8e1c04877d8463912d04d973331ad4851f04de6915a"
  }
 },
 "nbformat": 4,
 "nbformat_minor": 2,
 "cells": [
  {
   "cell_type": "code",
   "execution_count": 1,
   "metadata": {},
   "outputs": [],
   "source": [
    "from linkedin import LinkedIn\n",
    "\n",
    "lk = LinkedIn()\n",
    "\n",
    "LI_AT=\"AQEDAStrAksC_-jHAAABea3F97AAAAF50dJ7sE0An1myB_2eNVjM9Llxof_wRDahZoRCtjx2IawJKAUCQ28sAQc5KNFWvHhW_d9E3nMmpNzy5tsGVsoM4wTQUguZMFvE2X74B-TfTKoWZYxaek4Ph4Rq\"\n",
    "JSESSIONID=\"ajax:3016150591867474975\"\n",
    "\n",
    "POST_URL = \"https://www.linkedin.com/posts/j%C3%A9r%C3%A9my-ravenel-8a396910_opensource-opensourcelove-templates-activity-6810895670090846208-dkzZ\""
   ]
  },
  {
   "cell_type": "code",
   "execution_count": 2,
   "metadata": {},
   "outputs": [
    {
     "output_type": "execute_result",
     "data": {
      "text/plain": [
       "              POST_URN                                           POST_URL  \\\n",
       "0  6810895670090846208  https://www.linkedin.com/posts/j%C3%A9r%C3%A9m...   \n",
       "\n",
       "                                               TITLE  \\\n",
       "0  🚨🌏 #Opensource projects suffer from terrible m...   \n",
       "\n",
       "                                                TEXT  LIKES  DIRECT_COMMENTS  \\\n",
       "0  🚨🌏 #Opensource projects suffer from terrible m...     21                0   \n",
       "\n",
       "  TIME_DELTA DATE_APPROX  TAGS_COUNT       TAG_1  ... TAG_12 TAG_13   TAG_14  \\\n",
       "0         5d  2021-06-17          18  Opensource  ...    ai   jobs   career    \n",
       "\n",
       "   TAG_15      TAG_16        TAG_17 COMMENTS VIEWS LIKES_LIKE LIKES_INTEREST  \n",
       "0  github  opensource  contribution        7  None         20              1  \n",
       "\n",
       "[1 rows x 30 columns]"
      ],
      "text/html": "<div>\n<style scoped>\n    .dataframe tbody tr th:only-of-type {\n        vertical-align: middle;\n    }\n\n    .dataframe tbody tr th {\n        vertical-align: top;\n    }\n\n    .dataframe thead th {\n        text-align: right;\n    }\n</style>\n<table border=\"1\" class=\"dataframe\">\n  <thead>\n    <tr style=\"text-align: right;\">\n      <th></th>\n      <th>POST_URN</th>\n      <th>POST_URL</th>\n      <th>TITLE</th>\n      <th>TEXT</th>\n      <th>LIKES</th>\n      <th>DIRECT_COMMENTS</th>\n      <th>TIME_DELTA</th>\n      <th>DATE_APPROX</th>\n      <th>TAGS_COUNT</th>\n      <th>TAG_1</th>\n      <th>...</th>\n      <th>TAG_12</th>\n      <th>TAG_13</th>\n      <th>TAG_14</th>\n      <th>TAG_15</th>\n      <th>TAG_16</th>\n      <th>TAG_17</th>\n      <th>COMMENTS</th>\n      <th>VIEWS</th>\n      <th>LIKES_LIKE</th>\n      <th>LIKES_INTEREST</th>\n    </tr>\n  </thead>\n  <tbody>\n    <tr>\n      <th>0</th>\n      <td>6810895670090846208</td>\n      <td>https://www.linkedin.com/posts/j%C3%A9r%C3%A9m...</td>\n      <td>🚨🌏 #Opensource projects suffer from terrible m...</td>\n      <td>🚨🌏 #Opensource projects suffer from terrible m...</td>\n      <td>21</td>\n      <td>0</td>\n      <td>5d</td>\n      <td>2021-06-17</td>\n      <td>18</td>\n      <td>Opensource</td>\n      <td>...</td>\n      <td>ai</td>\n      <td>jobs</td>\n      <td>career</td>\n      <td>github</td>\n      <td>opensource</td>\n      <td>contribution</td>\n      <td>7</td>\n      <td>None</td>\n      <td>20</td>\n      <td>1</td>\n    </tr>\n  </tbody>\n</table>\n<p>1 rows × 30 columns</p>\n</div>"
     },
     "metadata": {},
     "execution_count": 2
    }
   ],
   "source": [
    "df = lk.connect(LI_AT, JSESSIONID).post.get_stats(POST_URL)\n",
    "df"
   ]
  },
  {
   "cell_type": "code",
   "execution_count": null,
   "metadata": {},
   "outputs": [],
   "source": []
  }
 ]
}